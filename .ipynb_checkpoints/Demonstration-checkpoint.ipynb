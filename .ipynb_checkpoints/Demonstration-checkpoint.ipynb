{
 "cells": [
  {
   "cell_type": "markdown",
   "id": "055c8f14-5cdc-4a53-af10-6aa6650bb6f6",
   "metadata": {},
   "source": [
    "# UAV Digital Twin for Communication Optimization\n",
    "This simulation combines\n",
    "* OpenStreetMaps Data\n",
    "* Sionna Ray Tracing\n",
    "* Simulation of Urban MObility (SUMO)\n",
    "* Custom UAV Control Framework\n",
    "\n",
    "To produce a digital twin that can be used for training a reinforcement learning model to optimize the locations of UAVs for their communication with the ground users.\n",
    "\n"
   ]
  },
  {
   "cell_type": "code",
   "execution_count": null,
   "id": "c69ac62a-2629-4dd9-8c1c-1c5e2c4bb560",
   "metadata": {},
   "outputs": [],
   "source": []
  }
 ],
 "metadata": {
  "kernelspec": {
   "display_name": "Python 3 (ipykernel)",
   "language": "python",
   "name": "python3"
  },
  "language_info": {
   "codemirror_mode": {
    "name": "ipython",
    "version": 3
   },
   "file_extension": ".py",
   "mimetype": "text/x-python",
   "name": "python",
   "nbconvert_exporter": "python",
   "pygments_lexer": "ipython3",
   "version": "3.11.9"
  }
 },
 "nbformat": 4,
 "nbformat_minor": 5
}
