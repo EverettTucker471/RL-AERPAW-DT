{
 "cells": [
  {
   "cell_type": "code",
   "execution_count": 8,
   "id": "f25a5cf1-85f3-4944-9336-95d7634cc3ed",
   "metadata": {},
   "outputs": [
    {
     "data": {
      "text/plain": [
       "0"
      ]
     },
     "execution_count": 8,
     "metadata": {},
     "output_type": "execute_result"
    }
   ],
   "source": [
    "import os\n",
    "os.system(\"pip install ortools\")"
   ]
  },
  {
   "cell_type": "code",
   "execution_count": 7,
   "id": "a37fe3b2-d0e6-422f-bb42-cb100f96d7cd",
   "metadata": {},
   "outputs": [
    {
     "data": {
      "text/plain": [
       "1"
      ]
     },
     "execution_count": 7,
     "metadata": {},
     "output_type": "execute_result"
    }
   ],
   "source": [
    "os.system(\"java -version\")"
   ]
  },
  {
   "cell_type": "code",
   "execution_count": 60,
   "id": "9780906c-7473-484d-9393-19ab84a063b5",
   "metadata": {},
   "outputs": [],
   "source": [
    "import io\n",
    "import pandas as pd\n",
    "import numpy as np\n",
    "from ortools.sat.python import cp_model"
   ]
  },
  {
   "cell_type": "markdown",
   "id": "05144467-e5c7-4908-a16f-19b7cbd49d36",
   "metadata": {},
   "source": [
    "## Using the CP-SAT Solver to solve the Generalized Assignment Problem\n",
    "### Data Explanation\n",
    "We are using data with 5 ground users, 3 UAV devices, there is a unique path quality score between each UAV and ground user, there is a desired throughput value for each ground user, and there is a maximum throughput value for each uav. In my example, the maximum throughput values for each UAV are constant, but theoretically they wouldn't have to be. The desired thorughput also only depends on the ground user, where it could be expanded to depend on both the ground users and the UAVs.\n",
    "### Maximization Function\n",
    "We want to maximize the hadamard product of the boolean selection matrix with the path quality matrix. This is a little weird computationally but in context it makes a lot of sense.\n",
    "### Constraints\n",
    "* We want to assign each ground user to exactly one UAV\n",
    "* For each UAV, we want the sum of the desired throughputs of each of the connected ground users to be less than or equal to the UAV's maximum throughput"
   ]
  },
  {
   "cell_type": "code",
   "execution_count": 76,
   "id": "9a6db624-7a38-48f6-a8ca-77b5ce633032",
   "metadata": {},
   "outputs": [
    {
     "name": "stdout",
     "output_type": "stream",
     "text": [
      "   uav  gu  path_quality  desired_throughput  maximum_throughput\n",
      "0   u0  g0             3                   1                   5\n",
      "1   u0  g1             6                   2                   5\n",
      "2   u0  g2             4                   3                   5\n",
      "3   u0  g3             4                   4                   5\n",
      "4   u0  g4             9                   5                   5\n",
      "5   u1  g0             3                   1                  10\n",
      "6   u1  g1             1                   2                  10\n",
      "7   u1  g2             8                   3                  10\n",
      "8   u1  g3             3                   4                  10\n",
      "9   u1  g4             2                   5                  10\n",
      "10  u2  g0             2                   1                   5\n",
      "11  u2  g1             7                   2                   5\n",
      "12  u2  g2             4                   3                   5\n",
      "13  u2  g3             2                   4                   5\n",
      "14  u2  g4             4                   5                   5\n"
     ]
    }
   ],
   "source": [
    "data_str = \"\"\"\n",
    "uav gu path_quality desired_throughput maximum_throughput\n",
    "u0 g0 3 1 5\n",
    "u0 g1 6 2 5\n",
    "u0 g2 4 3 5\n",
    "u0 g3 4 4 5\n",
    "u0 g4 9 5 5\n",
    "u1 g0 3 1 10\n",
    "u1 g1 1 2 10\n",
    "u1 g2 8 3 10\n",
    "u1 g3 3 4 10\n",
    "u1 g4 2 5 10\n",
    "u2 g0 2 1 5\n",
    "u2 g1 7 2 5\n",
    "u2 g2 4 3 5\n",
    "u2 g3 2 4 5\n",
    "u2 g4 4 5 5\n",
    "\"\"\"\n",
    "\n",
    "data = pd.read_table(io.StringIO(data_str), sep=r\"\\s+\", dtype={\"path_quality\": np.int64,\n",
    "                                                               \"desired_throughput\": np.int64,\n",
    "                                                               \"maximum_throughput\": np.int64})\n",
    "print(data)"
   ]
  },
  {
   "cell_type": "code",
   "execution_count": 77,
   "id": "6a8b145a-2b57-4bf5-8371-c1e3e856f3b5",
   "metadata": {},
   "outputs": [],
   "source": [
    "model = cp_model.CpModel()\n",
    "x = model.new_bool_var_series(name=\"x\", index=data.index)"
   ]
  },
  {
   "cell_type": "code",
   "execution_count": 78,
   "id": "12c8ee03-da3b-491c-93bf-3984995ec6b7",
   "metadata": {},
   "outputs": [],
   "source": [
    "# We certainly need this - unique assignment contraint\n",
    "for unused_name, uavs in data.groupby(\"gu\"):\n",
    "    model.add_exactly_one(x[uavs.index])\n",
    "\n",
    "# Maximum throughput constraint - This maximum_throughput is independent of pedestrian\n",
    "# I think this is quite obviously true\n",
    "for unused_name, uavs in data.groupby(\"uav\"):\n",
    "    model.Add(uavs[\"desired_throughput\"].dot(x[uavs.index]) <= int(uavs[\"maximum_throughput\"].iloc[0]))\n"
   ]
  },
  {
   "cell_type": "code",
   "execution_count": 79,
   "id": "2095eb7f-35f6-4a70-b1a2-1614e2e4a86f",
   "metadata": {},
   "outputs": [],
   "source": [
    "# This seems right too\n",
    "model.maximize(data.path_quality.dot(x))"
   ]
  },
  {
   "cell_type": "code",
   "execution_count": 80,
   "id": "a794a6ab-7e5a-4084-bcd1-bbdc8c965ca9",
   "metadata": {},
   "outputs": [],
   "source": [
    "solver = cp_model.CpSolver()\n",
    "status = solver.solve(model)"
   ]
  },
  {
   "cell_type": "code",
   "execution_count": 81,
   "id": "b3c3e87b-0e8b-4870-8750-4c10478fb25c",
   "metadata": {},
   "outputs": [
    {
     "name": "stdout",
     "output_type": "stream",
     "text": [
      "4\n",
      "4\n"
     ]
    }
   ],
   "source": [
    "print(status)\n",
    "print(cp_model.OPTIMAL)"
   ]
  },
  {
   "cell_type": "code",
   "execution_count": 82,
   "id": "50a9dd50-7d0a-474a-8cce-7f75809ef01d",
   "metadata": {},
   "outputs": [
    {
     "name": "stdout",
     "output_type": "stream",
     "text": [
      "Total path quality = 30.0\n",
      "\n",
      "g4 assigned to u0 with a quality of 9\n",
      "g0 assigned to u1 with a quality of 3\n",
      "g2 assigned to u1 with a quality of 8\n",
      "g3 assigned to u1 with a quality of 3\n",
      "g1 assigned to u2 with a quality of 7\n"
     ]
    }
   ],
   "source": [
    "print(f\"Total path quality = {solver.objective_value}\\n\")\n",
    "selected = data.loc[solver.boolean_values(x).loc[lambda x: x].index]\n",
    "for unused_index, row in selected.iterrows():\n",
    "    print(f\"{row.gu} assigned to {row.uav} with a quality of {row.path_quality}\")"
   ]
  },
  {
   "cell_type": "markdown",
   "id": "d74ee453-a3ff-4ecf-a0e9-c39fb0774190",
   "metadata": {},
   "source": [
    "## Results\n",
    "It works! But all of the parameters have to be integers. This should be somewhat fine for the theoretical maximum data rate because it is in bits per second and those could probably be rounded to ints because they are quite large. The other parameters are also in bits per second, so they should also be fine to convert to integers. Now I just need to hook up my data into this program, which I don't think will be that bad because it's a standard pandas dataframe."
   ]
  },
  {
   "cell_type": "markdown",
   "id": "ba6a5f67-024a-4b4e-92cf-e51842038e03",
   "metadata": {},
   "source": [
    "## Alternative Approach\n",
    "This is another approach suggested by DeepSeek. It also found that the problem was a generalized assignment problem and suggested a solution using Google OR-Tools, but it used a slightly different approach than I did that supposedly supports float values as well. I am going to have to try this one out and find out if it solves my problem and if it is faster or more precise than the solution I came up with."
   ]
  },
  {
   "cell_type": "code",
   "execution_count": 93,
   "id": "9965975b-0b1a-4a97-a343-37e257323d92",
   "metadata": {},
   "outputs": [
    {
     "name": "stdout",
     "output_type": "stream",
     "text": [
      "Assignments: {'u0': ['g4'], 'u1': ['g0', 'g3'], 'u2': ['g1', 'g2']}\n",
      "Total score: 30.29568346627255\n"
     ]
    }
   ],
   "source": [
    "from ortools.linear_solver import pywraplp\n",
    "\n",
    "def solve_gap(A, B, scores, weights, capacities):\n",
    "    solver = pywraplp.Solver.CreateSolver('SCIP')\n",
    "    x = {}\n",
    "\n",
    "    # Create variables\n",
    "    for a in A:\n",
    "        for b in B:\n",
    "            x[(a, b)] = solver.IntVar(0, 1, f'x_{a}_{b}')\n",
    "\n",
    "    # Constraints: Each task assigned to exactly one agent\n",
    "    for a in A:\n",
    "        solver.Add(sum(x[(a, b)] for b in B) == 1)\n",
    "\n",
    "    # Constraints: Capacity limits for agents\n",
    "    for b in B:\n",
    "        solver.Add(sum(weights[a] * x[(a, b)] for a in A) <= capacities[b])\n",
    "\n",
    "    # Objective: Maximize total score\n",
    "    objective = solver.Objective()\n",
    "    for a in A:\n",
    "        for b in B:\n",
    "            objective.SetCoefficient(x[(a, b)], scores[a][b])\n",
    "    objective.SetMaximization()\n",
    "\n",
    "    # Solve\n",
    "    status = solver.Solve()\n",
    "    if status == pywraplp.Solver.OPTIMAL:\n",
    "        assignments = {}\n",
    "        for b in B:\n",
    "            assigned_tasks = [a for a in A if x[(a, b)].solution_value() > 0.5]\n",
    "            assignments[b] = assigned_tasks\n",
    "        return assignments, objective.Value()\n",
    "    else:\n",
    "        return None\n",
    "\n",
    "# Example usage\n",
    "A = ['g0', 'g1', 'g2', 'g3', 'g4']\n",
    "B = ['u0', 'u1', 'u2']\n",
    "scores = {\n",
    "    'g0': {'u0': np.random.rand() * 10, 'u1': np.random.rand() * 10, 'u2': np.random.rand() * 10},\n",
    "    'g1': {'u0': np.random.rand() * 10, 'u1': np.random.rand() * 10, 'u2': np.random.rand() * 10},\n",
    "    'g2': {'u0': np.random.rand() * 10, 'u1': np.random.rand() * 10, 'u2': np.random.rand() * 10},\n",
    "    'g3': {'u0': np.random.rand() * 10, 'u1': np.random.rand() * 10, 'u2': np.random.rand() * 10},\n",
    "    'g4': {'u0': np.random.rand() * 10, 'u1': np.random.rand() * 10, 'u2': np.random.rand() * 10}\n",
    "}\n",
    "weights = {'g0': 1, 'g1': 2, 'g2': 3, 'g3': 4, 'g4': 5}\n",
    "capacities = {'u0': 5, 'u1': 5, 'u2': 5}\n",
    "\n",
    "assignments, total_score = solve_gap(A, B, scores, weights, capacities)\n",
    "print(\"Assignments:\", assignments)\n",
    "print(\"Total score:\", total_score)"
   ]
  },
  {
   "cell_type": "code",
   "execution_count": 94,
   "id": "a15b9d78-75d4-4f6c-9255-57955aee76eb",
   "metadata": {},
   "outputs": [
    {
     "name": "stdout",
     "output_type": "stream",
     "text": [
      "DeepSeek Score: 30.295683466272553\n"
     ]
    }
   ],
   "source": [
    "s = 0\n",
    "for uav in assignments.keys():\n",
    "    for gu in assignments[uav]:\n",
    "        s += scores[gu][uav]\n",
    "print(f'DeepSeek Score: {s}')"
   ]
  },
  {
   "cell_type": "markdown",
   "id": "111fb368-dd23-434f-8ad9-f8ddb5b0ce4c",
   "metadata": {},
   "source": [
    "## Results\n",
    "The DeepSeek model is actually correct, unlike my model, and it also works with float values. Maybe I should start using AI more? I am just going to adapt it to work with arrays, so it will be a little more efficient and have less conversion from the tensors that I am going to be using. This works, but it doesn't handle the approximate case where we cannot assign every ground user because the UAVs don't have enough total throughput. This is a case that we will run in to, so we need to have a good-enough solution for it."
   ]
  },
  {
   "cell_type": "code",
   "execution_count": 75,
   "id": "b8da814d-cb3a-4474-b04b-00626a5e8f85",
   "metadata": {},
   "outputs": [
    {
     "name": "stdout",
     "output_type": "stream",
     "text": [
      "([[10, 23, 28, 30, 33, 37, 39, 40, 45, 46, 47, 49, 56, 57, 61, 65, 68, 76, 87, 89, 92, 93, 110, 117, 119, 121, 127, 129, 130, 135, 137, 143, 150, 157, 161, 162, 166, 168, 171, 173, 177, 180, 190, 202, 203, 207, 209, 213, 215, 223, 227, 228, 230, 237, 255, 265, 267, 271, 272, 274, 277, 281, 286, 288, 289, 290, 293, 299, 303, 305, 311, 312, 317, 318, 322, 323, 324, 326, 330, 336, 338, 339, 342, 343, 349, 350, 363, 365, 369, 377, 393, 395, 402, 408, 410, 411, 414, 416, 420, 424, 426, 430, 437, 440, 443, 449, 454, 458, 465, 471, 472, 473, 474, 477, 478, 485, 488, 489, 491, 494, 499, 504, 518, 523, 526, 527, 528, 529, 531, 533, 534, 542, 543, 557, 558, 566, 568, 570, 571, 574, 582, 584, 594, 600, 601, 602, 604, 605, 609, 613, 614, 619, 623, 624, 625, 626, 630, 635, 637, 638, 641, 644, 646, 649, 655, 662, 668, 673, 674, 677, 685, 689, 690, 691, 692, 693, 694, 695, 704, 705, 717, 729, 733, 736, 737, 747, 753, 755, 763, 767, 775, 776, 780, 781, 782, 784, 788, 794, 796, 798, 799, 802, 808, 810, 812, 822, 823, 827, 834, 837, 849, 852, 869, 871, 876, 877, 878, 883, 884, 885, 890, 897, 903, 905, 906, 914, 926, 927, 936, 938, 945, 951, 957, 959, 964, 965, 966, 967, 968, 970, 974, 975, 984, 989, 991, 994, 995], [6, 11, 18, 22, 26, 32, 34, 35, 53, 83, 84, 95, 105, 124, 132, 133, 140, 146, 148, 153, 154, 155, 160, 164, 189, 193, 195, 197, 205, 206, 217, 219, 225, 226, 234, 239, 240, 253, 259, 268, 275, 278, 279, 296, 316, 319, 328, 351, 353, 359, 371, 376, 380, 390, 396, 400, 435, 436, 438, 452, 501, 505, 521, 525, 535, 575, 577, 580, 581, 588, 590, 593, 598, 615, 622, 640, 664, 671, 672, 678, 679, 682, 696, 712, 723, 731, 732, 738, 741, 751, 756, 770, 787, 795, 811, 825, 829, 833, 840, 843, 847, 848, 855, 858, 892, 912, 924, 944, 955, 971, 983, 993, 999], [0, 3, 5, 9, 17, 25, 42, 44, 48, 55, 69, 71, 73, 77, 81, 82, 100, 101, 102, 108, 111, 114, 118, 131, 138, 144, 151, 152, 158, 172, 175, 178, 181, 185, 186, 198, 201, 204, 208, 211, 233, 235, 236, 238, 241, 245, 247, 248, 250, 257, 260, 262, 282, 291, 300, 301, 302, 309, 314, 329, 332, 341, 346, 357, 358, 372, 387, 388, 398, 399, 403, 417, 421, 422, 425, 428, 432, 441, 442, 455, 456, 462, 479, 483, 490, 492, 495, 500, 503, 507, 510, 511, 513, 514, 519, 530, 532, 541, 548, 554, 589, 595, 599, 607, 608, 617, 620, 628, 629, 639, 651, 654, 659, 669, 683, 687, 688, 697, 703, 709, 711, 714, 716, 721, 743, 762, 764, 772, 785, 791, 801, 807, 819, 821, 828, 831, 832, 842, 857, 862, 865, 875, 891, 894, 895, 908, 910, 920, 928, 937, 940, 946, 963, 985, 997], [4, 7, 13, 15, 19, 20, 43, 60, 74, 90, 91, 96, 97, 98, 103, 125, 134, 147, 149, 163, 174, 182, 184, 187, 212, 218, 229, 242, 243, 244, 249, 251, 252, 254, 261, 263, 276, 280, 285, 295, 298, 313, 321, 327, 333, 335, 337, 348, 352, 356, 367, 375, 378, 379, 381, 384, 385, 397, 406, 407, 419, 429, 433, 434, 447, 450, 459, 466, 469, 470, 475, 481, 484, 487, 498, 502, 506, 509, 512, 515, 517, 547, 549, 550, 556, 559, 560, 562, 565, 572, 573, 578, 583, 586, 587, 591, 606, 610, 616, 631, 632, 633, 642, 643, 650, 652, 653, 656, 661, 663, 665, 666, 700, 728, 735, 740, 746, 748, 749, 765, 768, 774, 779, 783, 800, 805, 806, 813, 817, 826, 830, 860, 863, 866, 868, 870, 880, 886, 889, 901, 902, 904, 907, 909, 915, 919, 921, 943, 947, 948, 949, 952, 960, 961, 973, 976, 977, 978, 986, 992, 996]], 5595.985621801892)\n"
     ]
    }
   ],
   "source": [
    "import numpy as np\n",
    "from ortools.linear_solver import pywraplp\n",
    "\n",
    "def solve_gap_array(scores, weights, capacities, num_gus, num_uavs):\n",
    "    \"\"\"\n",
    "    Args:\n",
    "        scores (np.array(num_uavs, num_gus)): An array of path qualities, should be theoretical maximum throughput\n",
    "        weights (np.array(num_gus)): An array of the desired data rates for each ground user\n",
    "        capacities (np.array(num_uavs)): An array of the UAV data throughput capacity\n",
    "\n",
    "    Returns:\n",
    "        np.array(num_uavs, num_gus_assigned): A list of the indices of the ground users assigned to each UAV \n",
    "    \"\"\"\n",
    "    solver = pywraplp.Solver.CreateSolver('GLOP')\n",
    "    \n",
    "    x = []\n",
    "    # Create variables\n",
    "    for i in range(num_gus):\n",
    "        row = []\n",
    "        for j in range(num_uavs):\n",
    "            row.append(solver.IntVar(0, 1, \"\"))\n",
    "        x.append(row)\n",
    "\n",
    "    x = np.array(x)\n",
    "    \n",
    "\n",
    "    \"\"\"\n",
    "    for a in A:\n",
    "        for b in B:\n",
    "            x[(a, b)] = solver.IntVar(0, 1, f'x_{a}_{b}')\n",
    "    \"\"\"\n",
    "\n",
    "    # Constraints: Each task assigned to exactly one agent\n",
    "    for i in range(num_gus):\n",
    "        solver.Add(np.sum(x[i]) <= 1)\n",
    "        # solver.Add(sum(x[i][j] for j in range(num_uavs)) <= 1)\n",
    "\n",
    "    \"\"\"\n",
    "    for a in A:\n",
    "        solver.Add(sum(x[(a, b)] for b in B) == 1)\n",
    "    \"\"\"\n",
    "    \n",
    "    # Constraints: Capacity limits for agents\n",
    "    for j in range(num_uavs):\n",
    "        solver.Add(weights.dot(x[:, j]) <= capacities[j])\n",
    "        # solver.Add(sum(weights[i] * x[i][j] for i in range(num_gus)) <= capacities[j])\n",
    "\n",
    "    \"\"\"\n",
    "    for b in B:\n",
    "        solver.Add(sum(weights[a] * x[(a, b)] for a in A) <= capacities[b])\n",
    "    \"\"\"\n",
    "\n",
    "    \n",
    "    # Objective: Maximize total score\n",
    "\n",
    "    \"\"\"\n",
    "    objective = solver.Objective()\n",
    "    for a in A:\n",
    "        for b in B:\n",
    "            objective.SetCoefficient(x[(a, b)], scores[a][b])\n",
    "    objective.SetMaximization()\n",
    "    \"\"\"\n",
    "\n",
    "    objective = solver.Objective()\n",
    "    for i in range(num_gus):\n",
    "        for j in range(num_uavs):\n",
    "            objective.SetCoefficient(x[i][j], scores[j][i])\n",
    "    objective.SetMaximization()\n",
    "\n",
    "    # Solve\n",
    "    \"\"\"\n",
    "    status = solver.Solve()\n",
    "    if status == pywraplp.Solver.OPTIMAL:\n",
    "        assignments = {}\n",
    "        for b in B:\n",
    "            assigned_tasks = [a for a in A if x[(a, b)].solution_value() > 0.5]\n",
    "            assignments[b] = assigned_tasks\n",
    "        return assignments, objective.Value()\n",
    "    else:\n",
    "        return None\n",
    "    \"\"\"\n",
    "\n",
    "    if solver.Solve() == pywraplp.Solver.OPTIMAL:\n",
    "        rtn = []\n",
    "        for j in range(num_uavs):\n",
    "            rtn.append([i for i in range(num_gus) if x[i][j].solution_value() > 0.5])\n",
    "        return rtn, objective.Value()\n",
    "    else:\n",
    "        raise ValueError(\"The model doesn't converge for this input\")\n",
    "\n",
    "\"\"\"\n",
    "num_uavs = 4\n",
    "num_gus = 1000\n",
    "scores = np.random.rand(num_uavs, num_gus) * 10\n",
    "weights = np.random.rand(num_gus)\n",
    "capacities = np.random.rand(num_uavs) * 100\n",
    "\"\"\"\n",
    "\n",
    "res = solve_gap_array(scores, weights, capacities, num_gus, num_uavs)\n",
    "print(res)"
   ]
  },
  {
   "cell_type": "code",
   "execution_count": 76,
   "id": "b68ecede-b353-4735-a9d2-d9b032803578",
   "metadata": {},
   "outputs": [
    {
     "name": "stdout",
     "output_type": "stream",
     "text": [
      "Coverage:  0.676\n"
     ]
    }
   ],
   "source": [
    "print(\"Coverage: \", sum([len(x) for x in res[0]]) / num_gus)"
   ]
  },
  {
   "cell_type": "code",
   "execution_count": 4,
   "id": "d9085764-c81b-40d7-8a3c-0e8329ce3668",
   "metadata": {},
   "outputs": [
    {
     "name": "stdout",
     "output_type": "stream",
     "text": [
      "[0.77258752 1.17886295 0.51704219 0.00368103 0.02618762]\n"
     ]
    }
   ],
   "source": [
    "print(weights)"
   ]
  },
  {
   "cell_type": "code",
   "execution_count": 5,
   "id": "ed6af23b-4ed5-4130-971b-07b31ae24e23",
   "metadata": {},
   "outputs": [
    {
     "name": "stdout",
     "output_type": "stream",
     "text": [
      "[3.28182124 1.88050062 1.13875876]\n"
     ]
    }
   ],
   "source": [
    "print(capacities)"
   ]
  },
  {
   "cell_type": "code",
   "execution_count": 16,
   "id": "56db691c-e724-4afc-a573-afc3776c7b7e",
   "metadata": {},
   "outputs": [
    {
     "name": "stdout",
     "output_type": "stream",
     "text": [
      "Coverage:  0.7066666666666667\n"
     ]
    }
   ],
   "source": [
    "print(\"Coverage: \", sum([len(x) for x in res[0]]) / num_gus)"
   ]
  },
  {
   "cell_type": "markdown",
   "id": "8cd0f97d-cdf3-4b6f-aebf-19dda8225e43",
   "metadata": {},
   "source": [
    "## Final Optimal Model\n",
    "This model has been optimized for speed and accuracy across inputs. I changed the solver type and put everything I could in terms of numpy methods to speed up the computation. It seems to be working quite fast for most all inputs, even stuff that is much bigger than our usual use cases."
   ]
  },
  {
   "cell_type": "code",
   "execution_count": 79,
   "id": "3d4b8142-2e01-4a44-a084-d7a3efc2261f",
   "metadata": {},
   "outputs": [
    {
     "name": "stdout",
     "output_type": "stream",
     "text": [
      "([[1, 8, 19, 24, 27, 33, 34, 40, 60, 64, 66, 69, 72, 80, 82, 84, 103, 112, 115, 122, 127, 142, 143, 148, 168, 174, 181, 186, 187, 189, 194, 196, 200, 202, 210, 218, 231, 250, 273, 281, 288, 294, 306, 313, 324, 329, 347, 354, 356, 378, 379, 388, 389, 420, 422, 425, 430, 433, 444, 476, 480, 483, 489, 490, 498, 511, 514, 516, 525, 537, 539, 545, 557, 560, 590, 594, 597, 600, 603, 613, 616, 631, 634, 658, 662, 669, 682, 688, 691, 695, 700, 705, 712, 719, 738, 746, 747, 748, 757, 768, 779, 806, 816, 818, 845, 860, 861, 862, 869, 881, 890, 893, 903, 910, 915, 945, 955, 969, 971, 979, 989], [0, 13, 39, 86, 87, 88, 90, 97, 101, 105, 131, 141, 144, 152, 163, 191, 193, 197, 216, 220, 226, 239, 245, 246, 267, 280, 293, 307, 308, 309, 315, 319, 322, 327, 337, 362, 364, 376, 383, 385, 390, 394, 400, 404, 415, 431, 434, 465, 466, 472, 478, 488, 505, 510, 531, 534, 548, 556, 569, 573, 602, 625, 636, 642, 657, 666, 668, 701, 706, 717, 731, 778, 794, 809, 812, 813, 817, 820, 843, 844, 856, 858, 871, 894, 895, 905, 923, 933, 953, 956, 978, 984, 997], [5, 9, 11, 28, 38, 48, 49, 50, 51, 58, 59, 61, 62, 71, 73, 92, 111, 113, 117, 121, 128, 147, 154, 156, 158, 167, 171, 180, 188, 192, 203, 204, 211, 223, 232, 236, 248, 254, 256, 257, 270, 274, 276, 285, 289, 296, 301, 311, 333, 349, 367, 373, 399, 405, 410, 412, 413, 414, 429, 440, 446, 452, 453, 457, 459, 481, 494, 497, 501, 503, 507, 513, 518, 520, 526, 535, 541, 550, 554, 568, 579, 584, 587, 591, 595, 598, 599, 601, 604, 615, 635, 644, 650, 670, 673, 681, 684, 694, 709, 716, 725, 728, 729, 734, 745, 754, 762, 767, 772, 776, 777, 784, 786, 791, 793, 795, 797, 823, 832, 847, 852, 854, 865, 866, 868, 872, 878, 879, 882, 889, 897, 899, 904, 912, 913, 914, 920, 921, 932, 940, 975, 985, 991, 994, 999], [2, 6, 7, 17, 18, 22, 25, 26, 31, 36, 37, 41, 42, 47, 63, 74, 79, 83, 85, 89, 93, 96, 100, 104, 106, 107, 108, 110, 116, 118, 123, 125, 132, 137, 146, 150, 159, 169, 173, 175, 177, 179, 182, 208, 209, 234, 240, 241, 244, 251, 253, 259, 260, 261, 265, 277, 278, 283, 297, 302, 303, 304, 310, 314, 317, 326, 343, 346, 348, 353, 357, 359, 361, 375, 377, 381, 382, 384, 395, 409, 419, 428, 436, 442, 445, 448, 460, 467, 468, 469, 471, 474, 484, 487, 515, 521, 524, 538, 551, 555, 570, 571, 574, 576, 577, 582, 583, 586, 588, 596, 605, 609, 614, 620, 623, 627, 633, 638, 646, 654, 655, 663, 667, 672, 683, 685, 687, 693, 699, 702, 703, 704, 708, 714, 730, 733, 737, 744, 749, 751, 755, 760, 766, 775, 780, 781, 787, 807, 810, 821, 827, 831, 833, 836, 842, 851, 853, 885, 892, 901, 908, 911, 922, 924, 928, 934, 936, 938, 943, 944, 952, 961, 963, 974, 981, 987]], 4462.6615155739755)\n"
     ]
    }
   ],
   "source": [
    "import numpy as np\n",
    "from ortools.linear_solver import pywraplp\n",
    "\n",
    "def solve_gap_optimal(scores, weights, capacities, num_gus, num_uavs):\n",
    "    \"\"\"\n",
    "    Args:\n",
    "        scores (np.array(num_uavs, num_gus)): An array of path qualities, should be theoretical maximum throughput\n",
    "        weights (np.array(num_gus)): An array of the desired data rates for each ground user\n",
    "        capacities (np.array(num_uavs)): An array of the UAV data throughput capacity\n",
    "\n",
    "    Returns:\n",
    "        np.array(num_uavs, num_gus_assigned): A list of the indices of the ground users assigned to each UAV \n",
    "    \"\"\"\n",
    "    solver = pywraplp.Solver.CreateSolver('GLOP')\n",
    "    \n",
    "    # Create variables\n",
    "    x = []\n",
    "    for i in range(num_gus):\n",
    "        row = []\n",
    "        for j in range(num_uavs):\n",
    "            row.append(solver.IntVar(0, 1, \"\"))\n",
    "        x.append(row)\n",
    "    x = np.array(x)\n",
    "\n",
    "    # Constraints: Each task assigned to exactly one agent\n",
    "    for i in range(num_gus):\n",
    "        solver.Add(np.sum(x[i]) <= 1)\n",
    "        \n",
    "    # Constraints: Capacity limits for agents\n",
    "    for j in range(num_uavs):\n",
    "        solver.Add(weights.dot(x[:, j]) <= capacities[j])\n",
    "\n",
    "    # Adding objective\n",
    "    objective = solver.Objective()\n",
    "    for i in range(num_gus):\n",
    "        for j in range(num_uavs):\n",
    "            objective.SetCoefficient(x[i][j], scores[j][i])\n",
    "    objective.SetMaximization()\n",
    "\n",
    "    # Solving\n",
    "    if solver.Solve() == pywraplp.Solver.OPTIMAL:\n",
    "        rtn = []\n",
    "        for j in range(num_uavs):\n",
    "            rtn.append([i for i in range(num_gus) if x[i][j].solution_value() > 0.5])\n",
    "        return rtn, objective.Value()\n",
    "    else:\n",
    "        raise ValueError(\"The model doesn't converge for this input\")\n",
    "\n",
    "\n",
    "num_uavs = 4\n",
    "num_gus = 1000\n",
    "scores = np.random.rand(num_uavs, num_gus) * 10\n",
    "weights = np.random.rand(num_gus)\n",
    "capacities = np.random.rand(num_uavs) * 100\n",
    "\n",
    "\n",
    "res = solve_gap_optimal(scores, weights, capacities, num_gus, num_uavs)\n",
    "print(res)"
   ]
  },
  {
   "cell_type": "markdown",
   "id": "f363fa21-8ba4-43db-9672-949f2c9c6446",
   "metadata": {},
   "source": [
    "## A New Problem\n",
    "I think that it may be more accurate to state the constrains as a maximum number of ground users the can be supported for each UAV. This is a little more like the channel matching that the UAVs will actually be doing. This eliminates the data about the desired throughput for the ground users, and changes the capacity from a float to an integer describing the number of connections. The optimizatino objective is still the same. DeepSeek is being slow, so I'll have to do this myself."
   ]
  },
  {
   "cell_type": "code",
   "execution_count": 10,
   "id": "514e7cb9-b582-46ef-9fd2-3cbd9c977308",
   "metadata": {},
   "outputs": [
    {
     "name": "stdout",
     "output_type": "stream",
     "text": [
      "([[0, 7, 8, 9, 12, 17, 28, 43, 45, 48, 53, 58, 62, 64, 65, 68, 72, 75, 77, 80, 86, 87, 89, 92, 94, 95, 103, 104, 107, 111, 112, 122, 124, 127, 129, 134, 140, 143, 145, 146, 147, 148, 160, 163, 169, 174, 178, 185, 189, 193, 196, 197], [1, 6, 15, 16, 20, 27, 30, 32, 33, 35, 39, 40, 42, 44, 51, 52, 54, 56, 60, 63, 66, 70, 73, 90, 98, 100, 101, 102, 113, 115, 123, 126, 131, 135, 137, 138, 149, 150, 155, 159, 161, 162, 167, 172, 173, 175, 177, 181, 183, 191, 194, 195], [2, 5, 18, 19, 23, 24, 25, 26, 29, 34, 46, 47, 50, 57, 61, 67, 69, 76, 83, 84, 85, 99, 110, 114, 118, 125, 132, 141, 144, 154, 157, 158, 165, 166, 176, 180, 182, 188, 198], [3, 4, 10, 11, 13, 14, 21, 22, 31, 36, 37, 38, 41, 49, 55, 59, 71, 74, 78, 79, 81, 82, 88, 91, 93, 96, 97, 105, 106, 108, 109, 116, 117, 119, 120, 121, 128, 130, 133, 136, 139, 142, 151, 152, 153, 156, 164, 168, 170, 171, 179, 184, 186, 187, 190, 192, 199]], 356.34849739074707, 1.0)\n"
     ]
    }
   ],
   "source": [
    "import tensorflow as tf\n",
    "import numpy as np\n",
    "from ortools.linear_solver import pywraplp\n",
    "\n",
    "def solve_gap_optimal(scores, capacities, num_gus, num_uavs):\n",
    "    \"\"\"\n",
    "    Args:\n",
    "        scores (np.array(num_uavs, num_gus)): An array of path qualities, should be theoretical maximum throughput\n",
    "        weights (np.array(num_gus)): An array of the desired data rates for each ground user\n",
    "        capacities (np.array(num_uavs)): An array of the UAV data throughput capacity\n",
    "\n",
    "    Returns:\n",
    "        np.array(num_uavs, num_gus_assigned): A list of the indices of the ground users assigned to each UAV \n",
    "    \"\"\"\n",
    "    solver = pywraplp.Solver.CreateSolver('GLOP')\n",
    "    \n",
    "    # Create variables\n",
    "    x = []\n",
    "    for i in range(num_gus):\n",
    "        row = []\n",
    "        for j in range(num_uavs):\n",
    "\n",
    "            row.append(solver.IntVar(0, 1, \"\"))\n",
    "        x.append(row)\n",
    "    x = np.array(x)\n",
    "\n",
    "    # Constraints: Each task assigned to at most one agent\n",
    "    for i in range(num_gus):\n",
    "        solver.Add(np.sum(x[i]) <= 1)\n",
    "        \n",
    "    # Constraints: UAV j has at most capacities[j] connections\n",
    "    for j in range(num_uavs):\n",
    "        solver.Add(np.sum(x[:, j]) <= capacities[j])\n",
    "        # solver.Add(weights.dot(x[:, j]) <= capacities[j])\n",
    "\n",
    "    # Adding objective\n",
    "    objective = solver.Objective()\n",
    "    for i in range(num_gus):\n",
    "        for j in range(num_uavs):\n",
    "            objective.SetCoefficient(x[i][j], scores[j][i])\n",
    "    objective.SetMaximization()\n",
    "\n",
    "    # Solving\n",
    "    if solver.Solve() == pywraplp.Solver.OPTIMAL:\n",
    "        rtn = []\n",
    "        for j in range(num_uavs):\n",
    "            rtn.append([i for i in range(num_gus) if x[i][j].solution_value() > 0.5])\n",
    "        coverage = sum([len(x) for x in rtn]) / num_gus\n",
    "        return rtn, objective.Value(), coverage\n",
    "    else:\n",
    "        raise ValueError(\"The model doesn't converge for this input\")\n",
    "\n",
    "\n",
    "num_uavs = 4\n",
    "num_gus = 200\n",
    "scores = tf.random.uniform(shape=(num_uavs, num_gus)) + 1\n",
    "# scores = np.random.rand(num_uavs, num_gus) * 100\n",
    "capacities = np.random.randint(50, 60, num_uavs)\n",
    "\n",
    "\n",
    "res = solve_gap_optimal(scores.numpy().astype(np.float64), capacities, num_gus, num_uavs)\n",
    "print(res)"
   ]
  },
  {
   "cell_type": "code",
   "execution_count": null,
   "id": "872de7c0-f7b6-44a1-a4a5-cc3486efc0d7",
   "metadata": {},
   "outputs": [],
   "source": [
    "print(scores)"
   ]
  },
  {
   "cell_type": "markdown",
   "id": "225bcdcb-3195-4370-9cfb-913e25638ca9",
   "metadata": {},
   "source": [
    "## Solution\n",
    "This works for the new problem, and I only had to change a little bit about the framing of the problem. A bonus to this one is that if the sum of the capacities is greater than the total ground users it will always have 100% coverage, whether those connections are trivial is still undecided."
   ]
  },
  {
   "cell_type": "markdown",
   "id": "5aa8998e-560c-4ee3-b797-82e6162c49dd",
   "metadata": {},
   "source": [
    "## Here We Go Again\n",
    "After the research meeting, it appears that it is actually more optimal to state the constrain in terms of the total desired throughput of each user assigned to a specific UAV device. It is also good to put another optimization goal on the variance of the throughput of each UAV. I am not entirely sure how to weight this new optimization goal, but it may be possible to use Pareto optimization to creat a desired front fo the optimization problem."
   ]
  },
  {
   "cell_type": "code",
   "execution_count": 6,
   "id": "a1c5af47-2e0d-4013-ac47-1b3d7c75f350",
   "metadata": {},
   "outputs": [
    {
     "ename": "ValueError",
     "evalue": "Operators \"<\" and \">\" not supported with the linear solver",
     "output_type": "error",
     "traceback": [
      "\u001b[1;31m---------------------------------------------------------------------------\u001b[0m",
      "\u001b[1;31mValueError\u001b[0m                                Traceback (most recent call last)",
      "Cell \u001b[1;32mIn[6], line 56\u001b[0m\n\u001b[0;32m     52\u001b[0m weights \u001b[38;5;241m=\u001b[39m np\u001b[38;5;241m.\u001b[39mrandom\u001b[38;5;241m.\u001b[39mrand(num_gus)\n\u001b[0;32m     53\u001b[0m capacities \u001b[38;5;241m=\u001b[39m np\u001b[38;5;241m.\u001b[39mrandom\u001b[38;5;241m.\u001b[39mrand(num_uavs) \u001b[38;5;241m*\u001b[39m \u001b[38;5;241m100\u001b[39m\n\u001b[1;32m---> 56\u001b[0m res \u001b[38;5;241m=\u001b[39m solve_gap_optimal(scores, weights, capacities, num_gus, num_uavs, alpha, beta)\n\u001b[0;32m     57\u001b[0m \u001b[38;5;28mprint\u001b[39m(res)\n",
      "Cell \u001b[1;32mIn[6], line 35\u001b[0m, in \u001b[0;36msolve_gap_optimal\u001b[1;34m(scores, weights, capacities, num_gus, num_uavs, alpha, beta)\u001b[0m\n\u001b[0;32m     32\u001b[0m     solver\u001b[38;5;241m.\u001b[39mAdd(np\u001b[38;5;241m.\u001b[39msum(x[:, j]) \u001b[38;5;241m<\u001b[39m\u001b[38;5;241m=\u001b[39m capacities[j])\n\u001b[0;32m     34\u001b[0m \u001b[38;5;66;03m# Adding a coefficient based biobjective maximization\u001b[39;00m\n\u001b[1;32m---> 35\u001b[0m solver\u001b[38;5;241m.\u001b[39mMaximize(alpha \u001b[38;5;241m*\u001b[39m x \u001b[38;5;241m*\u001b[39m scores \u001b[38;5;241m+\u001b[39m beta \u001b[38;5;241m*\u001b[39m \u001b[38;5;28mmin\u001b[39m(np\u001b[38;5;241m.\u001b[39msum(x, axis\u001b[38;5;241m=\u001b[39m\u001b[38;5;241m0\u001b[39m)))\n\u001b[0;32m     37\u001b[0m \u001b[38;5;66;03m# Solving\u001b[39;00m\n\u001b[0;32m     38\u001b[0m \u001b[38;5;28;01mif\u001b[39;00m solver\u001b[38;5;241m.\u001b[39mSolve() \u001b[38;5;241m==\u001b[39m pywraplp\u001b[38;5;241m.\u001b[39mSolver\u001b[38;5;241m.\u001b[39mOPTIMAL:\n",
      "File \u001b[1;32m~\\miniconda3\\envs\\RL-DT-ENV\\Lib\\site-packages\\ortools\\linear_solver\\python\\linear_solver_natural_api.py:166\u001b[0m, in \u001b[0;36mLinearExpr.__lt__\u001b[1;34m(self, arg)\u001b[0m\n\u001b[0;32m    165\u001b[0m \u001b[38;5;28;01mdef\u001b[39;00m \u001b[38;5;21m__lt__\u001b[39m(\u001b[38;5;28mself\u001b[39m, arg):\n\u001b[1;32m--> 166\u001b[0m     \u001b[38;5;28;01mraise\u001b[39;00m \u001b[38;5;167;01mValueError\u001b[39;00m(\u001b[38;5;124m'\u001b[39m\u001b[38;5;124mOperators \u001b[39m\u001b[38;5;124m\"\u001b[39m\u001b[38;5;124m<\u001b[39m\u001b[38;5;124m\"\u001b[39m\u001b[38;5;124m and \u001b[39m\u001b[38;5;124m\"\u001b[39m\u001b[38;5;124m>\u001b[39m\u001b[38;5;124m\"\u001b[39m\u001b[38;5;124m not supported with the linear solver\u001b[39m\u001b[38;5;124m'\u001b[39m)\n",
      "\u001b[1;31mValueError\u001b[0m: Operators \"<\" and \">\" not supported with the linear solver"
     ]
    }
   ],
   "source": [
    "import numpy as np\n",
    "from ortools.linear_solver import pywraplp\n",
    "\n",
    "def solve_gap_optimal(scores, weights, capacities, num_gus, num_uavs, alpha, beta):\n",
    "    \"\"\"\n",
    "    Args:\n",
    "    scores (np.array(num_rx, num_tx)): An array of path qualities, should be theoretical maximum throughput values in bit/sec, dtype should be np.float64\n",
    "\n",
    "    Returns:\n",
    "        tuple(list(num_tx, num_rx_assigned), float, float): A tuple where the first value is a list of the indices of the ground users assigned to each UAV,\n",
    "        the second value is the total path quality of assigned connections,\n",
    "        the third value is the coverage percentage, the proportion of GUs serviced by the UAVs\n",
    "    \"\"\"\n",
    "\n",
    "    solver = pywraplp.Solver.CreateSolver('GLOP')\n",
    "    \n",
    "    # Create variables\n",
    "    x = []\n",
    "    for i in range(num_gus):\n",
    "        row = []\n",
    "        for j in range(num_uavs):\n",
    "            row.append(solver.IntVar(0, 1, \"\"))\n",
    "        x.append(row)\n",
    "    x = np.array(x)\n",
    "\n",
    "    # Constraints: Each user assigned to at most one UAV\n",
    "    for i in range(num_gus):\n",
    "        solver.Add(np.sum(x[i]) <= 1)\n",
    "            \n",
    "    # Constraints: UAV j has at most capacities[j] connections\n",
    "    for j in range(num_uavs):\n",
    "        solver.Add(np.sum(x[:, j]) <= capacities[j])\n",
    "\n",
    "    # Adding a coefficient based biobjective maximization\n",
    "    solver.Maximize(alpha * x * scores + beta * min(np.sum(x, axis=0)))\n",
    "\n",
    "    # Solving\n",
    "    if solver.Solve() == pywraplp.Solver.OPTIMAL:\n",
    "        rtn = []\n",
    "        for j in range(self.n_tx):\n",
    "            rtn.append([i for i in range(self.n_rx) if x[i][j].solution_value() > 0.5])\n",
    "        coverage = sum([len(x) for x in rtn]) / self.n_rx\n",
    "        return rtn, objective.Value(), coverage\n",
    "    else:\n",
    "        raise ValueError(\"The model doesn't converge for this input\")\n",
    "\n",
    "alpha = 4\n",
    "beta = 8\n",
    "num_uavs = 4\n",
    "num_gus = 1000\n",
    "scores = np.random.rand(num_gus, num_uavs) * 10\n",
    "weights = np.random.rand(num_gus)\n",
    "capacities = np.random.rand(num_uavs) * 100\n",
    "\n",
    "\n",
    "res = solve_gap_optimal(scores, weights, capacities, num_gus, num_uavs, alpha, beta)\n",
    "print(res)"
   ]
  },
  {
   "cell_type": "markdown",
   "id": "2d4ec130-f238-4c95-a0a2-b625b55dde08",
   "metadata": {},
   "source": [
    "## DeepSeek's Go At It"
   ]
  },
  {
   "cell_type": "code",
   "execution_count": 7,
   "id": "fa032a2d-bf28-4750-849e-2a8a5a54ef9e",
   "metadata": {},
   "outputs": [
    {
     "name": "stdout",
     "output_type": "stream",
     "text": [
      "Total Value: 22\n",
      "Agent 0 tasks: [1, 4]\n",
      "Agent 1 tasks: [0, 2, 3]\n"
     ]
    }
   ],
   "source": [
    "from ortools.sat.python import cp_model\n",
    "\n",
    "def solve_with_google_or(tasks, agents, weights, capacities, values):\n",
    "    # Step 1: Maximize total value\n",
    "    model = cp_model.CpModel()\n",
    "    x = {}\n",
    "    for i in tasks:\n",
    "        for j in agents:\n",
    "            x[(i, j)] = model.NewBoolVar(f\"x_{i}_{j}\")\n",
    "\n",
    "    # Each task to at most one agent\n",
    "    for i in tasks:\n",
    "        model.Add(sum(x[(i, j)] for j in agents) <= 1)\n",
    "\n",
    "    # Agent capacity constraints\n",
    "    for j in agents:\n",
    "        model.Add(sum(weights[i] * x[(i, j)] for i in tasks) <= capacities[j])\n",
    "\n",
    "    # Objective: Maximize total value\n",
    "    total_value = sum(values[i][j] * x[(i, j)] for i in tasks for j in agents)\n",
    "    model.Maximize(total_value)\n",
    "\n",
    "    solver = cp_model.CpSolver()\n",
    "    status = solver.Solve(model)\n",
    "\n",
    "    if status not in [cp_model.OPTIMAL, cp_model.FEASIBLE]:\n",
    "        return None, None, \"No solution found for Step 1.\"\n",
    "\n",
    "    # Extract results from Step 1\n",
    "    max_total_value = int(solver.ObjectiveValue())\n",
    "    assigned_tasks_step1 = sum(\n",
    "        solver.Value(x[(i, j)]) for i in tasks for j in agents\n",
    "    )\n",
    "\n",
    "    # Step 2: Minimize variance (sum of squares of task counts)\n",
    "    model2 = cp_model.CpModel()\n",
    "    x2 = {}\n",
    "    for i in tasks:\n",
    "        for j in agents:\n",
    "            x2[(i, j)] = model2.NewBoolVar(f\"x2_{i}_{j}\")\n",
    "\n",
    "    # Reapply constraints\n",
    "    for i in tasks:\n",
    "        model2.Add(sum(x2[(i, j)] for j in agents) <= 1)\n",
    "\n",
    "    for j in agents:\n",
    "        model2.Add(sum(weights[i] * x2[(i, j)] for i in tasks) <= capacities[j])\n",
    "\n",
    "    # Fix total value and total assigned tasks to Step 1 results\n",
    "    total_value_step2 = sum(values[i][j] * x2[(i, j)] for i in tasks for j in agents)\n",
    "    model2.Add(total_value_step2 == max_total_value)\n",
    "\n",
    "    total_assigned_tasks = sum(x2[(i, j)] for i in tasks for j in agents)\n",
    "    model2.Add(total_assigned_tasks == assigned_tasks_step1)\n",
    "\n",
    "    # Minimize sum of squares of task counts per agent\n",
    "    task_counts = [model2.NewIntVar(0, len(tasks), f\"count_{j}\") for j in agents]\n",
    "    task_counts_squared = [model2.NewIntVar(0, len(tasks)**2, f\"count_sq_{j}\") for j in agents]\n",
    "\n",
    "    for j in agents:\n",
    "        model2.Add(task_counts[j] == sum(x2[(i, j)] for i in tasks))\n",
    "        model2.AddMultiplicationEquality(task_counts_squared[j], [task_counts[j], task_counts[j]])\n",
    "\n",
    "    model2.Minimize(sum(task_counts_squared))\n",
    "\n",
    "    solver2 = cp_model.CpSolver()\n",
    "    status2 = solver2.Solve(model2)\n",
    "\n",
    "    if status2 not in [cp_model.OPTIMAL, cp_model.FEASIBLE]:\n",
    "        return None, None, \"No solution found for Step 2.\"\n",
    "\n",
    "    # Extract assignments\n",
    "    assignments = {}\n",
    "    for j in agents:\n",
    "        assignments[j] = []\n",
    "        for i in tasks:\n",
    "            if solver2.Value(x2[(i, j)]):\n",
    "                assignments[j].append(i)\n",
    "\n",
    "    return assignments, max_total_value, None\n",
    "\n",
    "# Example Usage\n",
    "if __name__ == \"__main__\":\n",
    "    # Sample data\n",
    "    tasks = list(range(5))  # Tasks: t0, t1, t2, t3, t4\n",
    "    agents = list(range(2)) # Agents: a0, a1\n",
    "    weights = [2, 3, 1, 4, 2]  # Task weights\n",
    "    capacities = [5, 8]         # Agent capacities\n",
    "    values = [                  # Value scores (task x agent)\n",
    "        [4, 5],\n",
    "        [3, 2],\n",
    "        [2, 7],\n",
    "        [5, 1],\n",
    "        [6, 3]\n",
    "    ]\n",
    "\n",
    "    assignments, total_value, error = solve_with_google_or(\n",
    "        tasks, agents, weights, capacities, values\n",
    "    )\n",
    "\n",
    "    if error:\n",
    "        print(error)\n",
    "    else:\n",
    "        print(f\"Total Value: {total_value}\")\n",
    "        for agent in agents:\n",
    "            print(f\"Agent {agent} tasks: {assignments[agent]}\")"
   ]
  },
  {
   "cell_type": "markdown",
   "id": "1aa7d07d-d098-4ce5-8bd5-754b56cb32ae",
   "metadata": {},
   "source": [
    "## Another DeepSeek Attempt with Maximizing the Minimum Number of Assignments\n",
    "I still need to ask it to change from lexicograph prioritization, to a coefficient-based approach"
   ]
  },
  {
   "cell_type": "code",
   "execution_count": 8,
   "id": "db7f0cd5-8022-47d8-b2d3-16ebd173063a",
   "metadata": {},
   "outputs": [
    {
     "name": "stdout",
     "output_type": "stream",
     "text": [
      "Total Value: 22\n",
      "Agent 0 tasks: [1, 4]\n",
      "Agent 1 tasks: [0, 2, 3]\n"
     ]
    }
   ],
   "source": [
    "from ortools.sat.python import cp_model\n",
    "\n",
    "def solve_with_google_or(tasks, agents, weights, capacities, values):\n",
    "    # Step 1: Maximize total value\n",
    "    model = cp_model.CpModel()\n",
    "    x = {}\n",
    "    for i in tasks:\n",
    "        for j in agents:\n",
    "            x[(i, j)] = model.NewBoolVar(f\"x_{i}_{j}\")\n",
    "\n",
    "    # Each task to at most one agent\n",
    "    for i in tasks:\n",
    "        model.Add(sum(x[(i, j)] for j in agents) <= 1)\n",
    "\n",
    "    # Agent capacity constraints\n",
    "    for j in agents:\n",
    "        model.Add(sum(weights[i] * x[(i, j)] for i in tasks) <= capacities[j])\n",
    "\n",
    "    # Objective: Maximize total value\n",
    "    total_value = sum(values[i][j] * x[(i, j)] for i in tasks for j in agents)\n",
    "    model.Maximize(total_value)\n",
    "\n",
    "    solver = cp_model.CpSolver()\n",
    "    status = solver.Solve(model)\n",
    "\n",
    "    if status not in [cp_model.OPTIMAL, cp_model.FEASIBLE]:\n",
    "        return None, None, \"No solution found for Step 1.\"\n",
    "\n",
    "    # Extract results from Step 1\n",
    "    max_total_value = int(solver.ObjectiveValue())\n",
    "    assigned_tasks_step1 = sum(solver.Value(x[(i, j)]) for i in tasks for j in agents)\n",
    "\n",
    "    # Step 2: Maximize the minimum number of tasks per agent\n",
    "    model2 = cp_model.CpModel()\n",
    "    x2 = {}\n",
    "    for i in tasks:\n",
    "        for j in agents:\n",
    "            x2[(i, j)] = model2.NewBoolVar(f\"x2_{i}_{j}\")\n",
    "\n",
    "    # Reapply constraints\n",
    "    for i in tasks:\n",
    "        model2.Add(sum(x2[(i, j)] for j in agents) <= 1)\n",
    "\n",
    "    for j in agents:\n",
    "        model2.Add(sum(weights[i] * x2[(i, j)] for i in tasks) <= capacities[j])\n",
    "\n",
    "    # Fix total value and total assigned tasks to Step 1 results\n",
    "    total_value_step2 = sum(values[i][j] * x2[(i, j)] for i in tasks for j in agents)\n",
    "    model2.Add(total_value_step2 == max_total_value)\n",
    "\n",
    "    total_assigned_tasks = sum(x2[(i, j)] for i in tasks for j in agents)\n",
    "    model2.Add(total_assigned_tasks == assigned_tasks_step1)\n",
    "\n",
    "    # Define task counts per agent\n",
    "    task_counts = [model2.NewIntVar(0, len(tasks), f\"count_{j}\") for j in agents]\n",
    "    for j in agents:\n",
    "        model2.Add(task_counts[j] == sum(x2[(i, j)] for i in tasks))\n",
    "\n",
    "    # Maximize the minimum task count across agents\n",
    "    min_tasks = model2.NewIntVar(0, assigned_tasks_step1, 'min_tasks')\n",
    "    for j in agents:\n",
    "        model2.Add(task_counts[j] >= min_tasks)\n",
    "    model2.Maximize(min_tasks)\n",
    "\n",
    "    solver2 = cp_model.CpSolver()\n",
    "    status2 = solver2.Solve(model2)\n",
    "\n",
    "    if status2 not in [cp_model.OPTIMAL, cp_model.FEASIBLE]:\n",
    "        return None, None, \"No solution found for Step 2.\"\n",
    "\n",
    "    # Extract assignments\n",
    "    assignments = {}\n",
    "    for j in agents:\n",
    "        assignments[j] = []\n",
    "        for i in tasks:\n",
    "            if solver2.Value(x2[(i, j)]):\n",
    "                assignments[j].append(i)\n",
    "\n",
    "    return assignments, max_total_value, None\n",
    "\n",
    "# Example Usage (same as before)\n",
    "if __name__ == \"__main__\":\n",
    "    tasks = list(range(5))\n",
    "    agents = list(range(2))\n",
    "    weights = [2, 3, 1, 4, 2]\n",
    "    capacities = [5, 8]\n",
    "    values = [\n",
    "        [4, 5],\n",
    "        [3, 2],\n",
    "        [2, 7],\n",
    "        [5, 1],\n",
    "        [6, 3]\n",
    "    ]\n",
    "\n",
    "    assignments, total_value, error = solve_with_google_or(\n",
    "        tasks, agents, weights, capacities, values\n",
    "    )\n",
    "\n",
    "    if error:\n",
    "        print(error)\n",
    "    else:\n",
    "        print(f\"Total Value: {total_value}\")\n",
    "        for agent in agents:\n",
    "            print(f\"Agent {agent} tasks: {assignments[agent]}\")"
   ]
  },
  {
   "cell_type": "markdown",
   "id": "cfe3d544-ff59-4be6-945b-e97d06967b78",
   "metadata": {},
   "source": [
    "## Using a weighted sum instead of the lexicographical prioritization\n",
    "Hopefully this works as well, we are converging to a fairly optimal model, but it will need a lot of testing and verification."
   ]
  },
  {
   "cell_type": "code",
   "execution_count": 24,
   "id": "53e2f081-9788-4c05-86b3-4b9c6a49dddc",
   "metadata": {},
   "outputs": [
    {
     "name": "stdout",
     "output_type": "stream",
     "text": [
      "Total Value: 24\n",
      "Minimum Tasks per Agent: 2\n",
      "Agent 0 tasks: [1, 4]\n",
      "Agent 1 tasks: [0, 2, 3]\n"
     ]
    }
   ],
   "source": [
    "import numpy as np\n",
    "from ortools.sat.python import cp_model\n",
    "\n",
    "def solve_with_google_or(num_tasks, num_agents, weights, capacities, values, weight_value=1.0, weight_min=1.0):\n",
    "    model = cp_model.CpModel()\n",
    "\n",
    "    tasks = range(num_tasks)\n",
    "    agents = range(num_agents)\n",
    "    \n",
    "    x = []\n",
    "    for i in tasks:\n",
    "        x.append([])\n",
    "        for j in agents:\n",
    "            x[i].append(model.NewBoolVar(\"\"))\n",
    "            # x[i][j] = model.NewBoolVar(f\"x_{i}_{j}\")\n",
    "    x = np.array(x)\n",
    "\n",
    "    # Constraints\n",
    "    # 1. Each task assigned to at most one agent\n",
    "    for i in tasks:\n",
    "        model.Add(np.sum(x[i, :]) <= 1)\n",
    "\n",
    "    # 2. Agent capacity constraints\n",
    "    for j in agents:\n",
    "        model.Add(np.dot(weights, x[:, j]) <= capacities[j])\n",
    "        # model.Add(sum(weights[i] * x[(i, j)] for i in tasks) <= capacities[j])\n",
    "\n",
    "    # Define task counts per agent\n",
    "    task_counts = np.array([model.NewIntVar(0, num_tasks, \"\") for j in agents])\n",
    "    for j in agents:\n",
    "        model.Add(task_counts[j] == np.sum(x[:, j]))\n",
    "        # model.Add(task_counts[j] == sum(x[(i, j)] for i in tasks))\n",
    "\n",
    "    # Define \"min_tasks\" variable (minimum number of tasks across agents)\n",
    "    min_tasks = model.NewIntVar(0, num_tasks, \"min_tasks\")\n",
    "    for j in agents:\n",
    "        model.Add(task_counts[j] >= min_tasks)\n",
    "\n",
    "    # Combined objective: weight_value * total_value + weight_min * min_tasks\n",
    "    total_value = np.sum(values * x)\n",
    "    # total_value = sum(values[i][j] * x[(i, j)] for i in tasks for j in agents)\n",
    "    combined_objective = total_value * weight_value + min_tasks * weight_min\n",
    "    model.Maximize(combined_objective)\n",
    "\n",
    "    # Solve\n",
    "    solver = cp_model.CpSolver()\n",
    "    status = solver.Solve(model)\n",
    "\n",
    "    if status not in [cp_model.OPTIMAL, cp_model.FEASIBLE]:\n",
    "        return None, None, \"No solution found.\"\n",
    "\n",
    "    # Extract results\n",
    "    assignments = []\n",
    "    for j in agents:\n",
    "        assignments.append([])\n",
    "        for i in tasks:\n",
    "            if solver.Value(x[i][j]):\n",
    "                assignments[j].append(i)\n",
    "\n",
    "    total_value_result = int(solver.ObjectiveValue() / weight_value)  # Undo scaling for reporting\n",
    "    min_tasks_result = solver.Value(min_tasks)\n",
    "\n",
    "    return assignments, total_value_result, min_tasks_result, None\n",
    "\n",
    "# Example Usage\n",
    "if __name__ == \"__main__\":\n",
    "    num_tasks = 5  # Tasks: t0, t1, t2, t3, t4\n",
    "    num_agents = 2  # Agents: a0, a1\n",
    "    weights = [2, 3, 1, 4, 2]  # Task weights\n",
    "    capacities = [5, 8]        # Agent capacities\n",
    "    values = [                 # Value scores (task x agent)\n",
    "        [4, 5],\n",
    "        [3, 2],\n",
    "        [2, 7],\n",
    "        [5, 1],\n",
    "        [6, 3]\n",
    "    ]\n",
    "\n",
    "    # Solve with weights (adjust based on priorities)\n",
    "    assignments, total_value, min_tasks, error = solve_with_google_or(num_tasks, num_agents, weights, capacities, values, weight_value=1.0, weight_min=1.0)\n",
    "\n",
    "    if error:\n",
    "        print(error)\n",
    "    else:\n",
    "        print(f\"Total Value: {total_value}\")\n",
    "        print(f\"Minimum Tasks per Agent: {min_tasks}\")\n",
    "        for agent in agents:\n",
    "            print(f\"Agent {agent} tasks: {assignments[agent]}\")"
   ]
  },
  {
   "cell_type": "markdown",
   "id": "12748cdf-f0b7-4667-b476-16f21c0ea9ef",
   "metadata": {},
   "source": [
    "## Testing the Environment Function\n",
    "I finally got an environment function working that I feel comfortable about testing. I am mostly going to make sure that it doesn't error with the large amount of data that is going through it. A lot has to be right for it not to error. I have check the consistancy of the results for some smaller cases and it looks pretty good, so hopefully it is able to scale well also. I am a little worried about the integer constraint, but because everything is in bytes per second the values should typically be about 10^7 and thus have enough precision if they're just represented as integers."
   ]
  },
  {
   "cell_type": "code",
   "execution_count": 1,
   "id": "966e4a63-bea9-4f5c-89f8-9a9ad6f1656e",
   "metadata": {},
   "outputs": [
    {
     "name": "stdout",
     "output_type": "stream",
     "text": [
      "WARNING:tensorflow:From C:\\Users\\legoe\\miniconda3\\envs\\RL-DT-ENV\\Lib\\site-packages\\keras\\src\\losses.py:2976: The name tf.losses.sparse_softmax_cross_entropy is deprecated. Please use tf.compat.v1.losses.sparse_softmax_cross_entropy instead.\n",
      "\n"
     ]
    }
   ],
   "source": [
    "# Necessary Imports\n",
    "import numpy as np\n",
    "import tensorflow as tf\n",
    "import matplotlib\n",
    "import matplotlib.pyplot as plt\n",
    "from EnvironmentFramework import Environment, UAV, GroundUser\n",
    "from sionna.rt import Antenna, AntennaArray, Camera"
   ]
  },
  {
   "cell_type": "code",
   "execution_count": 2,
   "id": "1a7555ee-941c-4b07-b178-34d52dcf76c1",
   "metadata": {},
   "outputs": [],
   "source": [
    "np.random.seed(1)\n",
    "simulation_steps = 101\n",
    "scale = 10\n",
    "num_uavs = 4\n",
    "signs = [[1, 1], [-1, 1], [1, -1], [-1, -1]]  # Signs to move UAVs in different directions\n",
    "positions = []\n",
    "\n",
    "row = {}\n",
    "for i in range(num_uavs):\n",
    "    pos = np.zeros(3)\n",
    "    pos[2] = 150\n",
    "    row[str(i)] = [2, pos, np.random.rand(3)]\n",
    "positions.append(row)\n",
    "\n",
    "for i in range(simulation_steps):\n",
    "    row = {}\n",
    "    \n",
    "    for j in range(num_uavs):\n",
    "        pos = scale * np.random.rand(3)\n",
    "        pos[0] = pos[0] * signs[j][0] + positions[i][str(j)][1][0]\n",
    "        pos[1] = pos[1] * signs[j][1] + positions[i][str(j)][2][1]\n",
    "        pos[2] = 150\n",
    "        row[str(j)] = [2, pos, np.random.rand(3)]\n",
    "    positions.append(row)"
   ]
  },
  {
   "cell_type": "code",
   "execution_count": 3,
   "id": "10bcfed3-c0a1-4eb9-8817-26f37c00efea",
   "metadata": {},
   "outputs": [],
   "source": [
    "# Resetting the environment variable\n",
    "def createEnvironment():\n",
    "    return Environment(\"C:/Users/legoe/Blender/BlenderDataFiles/RaleighUnionSquareMitsubaExport/raleigh_union_square_mitsuba.xml\",\n",
    "                       \"C:/Users/legoe/Sumo/2024-10-04-09-05-18/simulated_final_person_new.csv\",\n",
    "                       time_step=1, ped_height=1.5, ped_rx=True, ped_color=matplotlib.colors.to_rgb(\"red\"), \n",
    "                       wind_vector=np.zeros(3), temperature=290)"
   ]
  },
  {
   "cell_type": "code",
   "execution_count": 4,
   "id": "bae659a5-519d-4d70-b023-82d7722c1af1",
   "metadata": {},
   "outputs": [],
   "source": [
    "def resetUAVs():\n",
    "    # c = np.array([0.07457407, 0.3703057, 0.12341886])\n",
    "    \n",
    "    env.addUAV(0, mass=10, efficiency=0.8, pos=np.array([0, 0, 150]), vel=np.zeros(3), color=matplotlib.colors.to_rgb(\"green\"), bandwidth=50, rotor_area=0.5, signal_power=2)\n",
    "    env.addUAV(1, mass=10, efficiency=0.8, pos=np.array([0, 0, 150]), vel=np.zeros(3), color=matplotlib.colors.to_rgb(\"blue\"), bandwidth=50, rotor_area=0.5, signal_power=2)\n",
    "    env.addUAV(2, mass=10, efficiency=0.8, pos=np.array([0, 0, 150]), vel=np.zeros(3), color=matplotlib.colors.to_rgb(\"black\"), bandwidth=50, rotor_area=0.5, signal_power=2)\n",
    "    env.addUAV(3, mass=10, efficiency=0.8, pos=np.array([0, 0, 150]), vel=np.zeros(3), color=matplotlib.colors.to_rgb(\"orange\"), bandwidth=50, rotor_area=0.5, signal_power=2)"
   ]
  },
  {
   "cell_type": "code",
   "execution_count": 5,
   "id": "c03db35e-2e1f-47f1-b510-940bdd2e467c",
   "metadata": {},
   "outputs": [],
   "source": [
    "def resetAntennas():\n",
    "    env.setTransmitterArray(AntennaArray(antenna=Antenna(\"tr38901\", \"V\"), positions=tf.Variable([0.0,0.0,0.0])))\n",
    "    env.setReceiverArray(AntennaArray(antenna=Antenna(\"tr38901\", \"V\"), positions=tf.Variable([0.0,0.0,0.0])))"
   ]
  },
  {
   "cell_type": "code",
   "execution_count": 6,
   "id": "ec233c37-8878-4fde-8b04-174829286a47",
   "metadata": {},
   "outputs": [],
   "source": [
    "env = createEnvironment()\n",
    "resetUAVs()\n",
    "resetAntennas()"
   ]
  },
  {
   "cell_type": "code",
   "execution_count": null,
   "id": "dab97391-7e73-4922-b9ed-e3fb6bff8d78",
   "metadata": {},
   "outputs": [],
   "source": []
  }
 ],
 "metadata": {
  "kernelspec": {
   "display_name": "Python 3 (ipykernel)",
   "language": "python",
   "name": "python3"
  },
  "language_info": {
   "codemirror_mode": {
    "name": "ipython",
    "version": 3
   },
   "file_extension": ".py",
   "mimetype": "text/x-python",
   "name": "python",
   "nbconvert_exporter": "python",
   "pygments_lexer": "ipython3",
   "version": "3.11.9"
  }
 },
 "nbformat": 4,
 "nbformat_minor": 5
}
